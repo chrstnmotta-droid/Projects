{
 "cells": [
  {
   "cell_type": "code",
   "execution_count": 1,
   "id": "5b72c37b-bed9-479c-b65c-b214a0fef2c9",
   "metadata": {
    "collapsed": true,
    "jupyter": {
     "outputs_hidden": true
    },
    "tags": []
   },
   "outputs": [
    {
     "name": "stdout",
     "output_type": "stream",
     "text": [
      "Requirement already satisfied: mglearn in /Users/christianmotta/.local/lib/python3.11/site-packages (0.2.0)\n",
      "Requirement already satisfied: numpy in /Users/christianmotta/anaconda3/lib/python3.11/site-packages (from mglearn) (1.24.3)\n",
      "Requirement already satisfied: matplotlib in /Users/christianmotta/anaconda3/lib/python3.11/site-packages (from mglearn) (3.7.1)\n",
      "Requirement already satisfied: scikit-learn in /Users/christianmotta/anaconda3/lib/python3.11/site-packages (from mglearn) (1.3.0)\n",
      "Requirement already satisfied: pandas in /Users/christianmotta/anaconda3/lib/python3.11/site-packages (from mglearn) (1.5.3)\n",
      "Requirement already satisfied: pillow in /Users/christianmotta/anaconda3/lib/python3.11/site-packages (from mglearn) (10.2.0)\n",
      "Requirement already satisfied: cycler in /Users/christianmotta/anaconda3/lib/python3.11/site-packages (from mglearn) (0.11.0)\n",
      "Requirement already satisfied: imageio in /Users/christianmotta/anaconda3/lib/python3.11/site-packages (from mglearn) (2.31.1)\n",
      "Requirement already satisfied: joblib in /Users/christianmotta/anaconda3/lib/python3.11/site-packages (from mglearn) (1.2.0)\n",
      "Requirement already satisfied: contourpy>=1.0.1 in /Users/christianmotta/anaconda3/lib/python3.11/site-packages (from matplotlib->mglearn) (1.0.5)\n",
      "Requirement already satisfied: fonttools>=4.22.0 in /Users/christianmotta/anaconda3/lib/python3.11/site-packages (from matplotlib->mglearn) (4.25.0)\n",
      "Requirement already satisfied: kiwisolver>=1.0.1 in /Users/christianmotta/anaconda3/lib/python3.11/site-packages (from matplotlib->mglearn) (1.4.4)\n",
      "Requirement already satisfied: packaging>=20.0 in /Users/christianmotta/anaconda3/lib/python3.11/site-packages (from matplotlib->mglearn) (23.0)\n",
      "Requirement already satisfied: pyparsing>=2.3.1 in /Users/christianmotta/anaconda3/lib/python3.11/site-packages (from matplotlib->mglearn) (3.0.9)\n",
      "Requirement already satisfied: python-dateutil>=2.7 in /Users/christianmotta/anaconda3/lib/python3.11/site-packages (from matplotlib->mglearn) (2.8.2)\n",
      "Requirement already satisfied: pytz>=2020.1 in /Users/christianmotta/anaconda3/lib/python3.11/site-packages (from pandas->mglearn) (2022.7)\n",
      "Requirement already satisfied: scipy>=1.5.0 in /Users/christianmotta/anaconda3/lib/python3.11/site-packages (from scikit-learn->mglearn) (1.10.1)\n",
      "Requirement already satisfied: threadpoolctl>=2.0.0 in /Users/christianmotta/anaconda3/lib/python3.11/site-packages (from scikit-learn->mglearn) (2.2.0)\n",
      "Requirement already satisfied: six>=1.5 in /Users/christianmotta/anaconda3/lib/python3.11/site-packages (from python-dateutil>=2.7->matplotlib->mglearn) (1.16.0)\n",
      "Requirement already satisfied: openml in /Users/christianmotta/anaconda3/lib/python3.11/site-packages (0.14.1)\n",
      "Collecting openml\n",
      "  Obtaining dependency information for openml from https://files.pythonhosted.org/packages/4a/f3/462c16d9e80177d22a036abd3df0f114bf311e566ff906adbb3d82790c20/openml-0.15.1-py3-none-any.whl.metadata\n",
      "  Downloading openml-0.15.1-py3-none-any.whl.metadata (10 kB)\n",
      "Requirement already satisfied: liac-arff>=2.4.0 in /Users/christianmotta/anaconda3/lib/python3.11/site-packages (from openml) (2.5.0)\n",
      "Requirement already satisfied: xmltodict in /Users/christianmotta/anaconda3/lib/python3.11/site-packages (from openml) (0.13.0)\n",
      "Requirement already satisfied: requests in /Users/christianmotta/anaconda3/lib/python3.11/site-packages (from openml) (2.31.0)\n",
      "Requirement already satisfied: scikit-learn>=0.18 in /Users/christianmotta/anaconda3/lib/python3.11/site-packages (from openml) (1.3.0)\n",
      "Requirement already satisfied: python-dateutil in /Users/christianmotta/anaconda3/lib/python3.11/site-packages (from openml) (2.8.2)\n",
      "Requirement already satisfied: pandas>=1.0.0 in /Users/christianmotta/anaconda3/lib/python3.11/site-packages (from openml) (1.5.3)\n",
      "Requirement already satisfied: scipy>=0.13.3 in /Users/christianmotta/anaconda3/lib/python3.11/site-packages (from openml) (1.10.1)\n",
      "Requirement already satisfied: numpy>=1.6.2 in /Users/christianmotta/anaconda3/lib/python3.11/site-packages (from openml) (1.24.3)\n",
      "Requirement already satisfied: minio in /Users/christianmotta/anaconda3/lib/python3.11/site-packages (from openml) (7.2.0)\n",
      "Requirement already satisfied: pyarrow in /Users/christianmotta/anaconda3/lib/python3.11/site-packages (from openml) (11.0.0)\n",
      "Requirement already satisfied: tqdm in /Users/christianmotta/anaconda3/lib/python3.11/site-packages (from openml) (4.65.0)\n",
      "Requirement already satisfied: packaging in /Users/christianmotta/anaconda3/lib/python3.11/site-packages (from openml) (23.0)\n",
      "Requirement already satisfied: pytz>=2020.1 in /Users/christianmotta/anaconda3/lib/python3.11/site-packages (from pandas>=1.0.0->openml) (2022.7)\n",
      "Requirement already satisfied: six>=1.5 in /Users/christianmotta/anaconda3/lib/python3.11/site-packages (from python-dateutil->openml) (1.16.0)\n",
      "Requirement already satisfied: joblib>=1.1.1 in /Users/christianmotta/anaconda3/lib/python3.11/site-packages (from scikit-learn>=0.18->openml) (1.2.0)\n",
      "Requirement already satisfied: threadpoolctl>=2.0.0 in /Users/christianmotta/anaconda3/lib/python3.11/site-packages (from scikit-learn>=0.18->openml) (2.2.0)\n",
      "Requirement already satisfied: certifi in /Users/christianmotta/anaconda3/lib/python3.11/site-packages (from minio->openml) (2024.2.2)\n",
      "Requirement already satisfied: urllib3 in /Users/christianmotta/anaconda3/lib/python3.11/site-packages (from minio->openml) (1.26.16)\n",
      "Requirement already satisfied: argon2-cffi in /Users/christianmotta/anaconda3/lib/python3.11/site-packages (from minio->openml) (21.3.0)\n",
      "Requirement already satisfied: pycryptodome in /Users/christianmotta/anaconda3/lib/python3.11/site-packages (from minio->openml) (3.19.0)\n",
      "Requirement already satisfied: charset-normalizer<4,>=2 in /Users/christianmotta/anaconda3/lib/python3.11/site-packages (from requests->openml) (2.0.4)\n",
      "Requirement already satisfied: idna<4,>=2.5 in /Users/christianmotta/anaconda3/lib/python3.11/site-packages (from requests->openml) (3.4)\n",
      "Requirement already satisfied: argon2-cffi-bindings in /Users/christianmotta/anaconda3/lib/python3.11/site-packages (from argon2-cffi->minio->openml) (21.2.0)\n",
      "Requirement already satisfied: cffi>=1.0.1 in /Users/christianmotta/anaconda3/lib/python3.11/site-packages (from argon2-cffi-bindings->argon2-cffi->minio->openml) (1.15.1)\n",
      "Requirement already satisfied: pycparser in /Users/christianmotta/anaconda3/lib/python3.11/site-packages (from cffi>=1.0.1->argon2-cffi-bindings->argon2-cffi->minio->openml) (2.21)\n",
      "Downloading openml-0.15.1-py3-none-any.whl (160 kB)\n",
      "\u001b[2K   \u001b[90m━━━━━━━━━━━━━━━━━━━━━━━━━━━━━━━━━━━━━━━\u001b[0m \u001b[32m160.4/160.4 kB\u001b[0m \u001b[31m293.2 kB/s\u001b[0m eta \u001b[36m0:00:00\u001b[0ma \u001b[36m0:00:01\u001b[0m\n",
      "\u001b[?25hInstalling collected packages: openml\n",
      "  Attempting uninstall: openml\n",
      "    Found existing installation: openml 0.14.1\n",
      "    Uninstalling openml-0.14.1:\n",
      "      Successfully uninstalled openml-0.14.1\n",
      "Successfully installed openml-0.15.1\n",
      "Requirement already satisfied: imbalanced-learn in /Users/christianmotta/anaconda3/lib/python3.11/site-packages (0.11.0)\n",
      "Requirement already satisfied: numpy>=1.17.3 in /Users/christianmotta/anaconda3/lib/python3.11/site-packages (from imbalanced-learn) (1.24.3)\n",
      "Requirement already satisfied: scipy>=1.5.0 in /Users/christianmotta/anaconda3/lib/python3.11/site-packages (from imbalanced-learn) (1.10.1)\n",
      "Requirement already satisfied: scikit-learn>=1.0.2 in /Users/christianmotta/anaconda3/lib/python3.11/site-packages (from imbalanced-learn) (1.3.0)\n",
      "Requirement already satisfied: joblib>=1.1.1 in /Users/christianmotta/anaconda3/lib/python3.11/site-packages (from imbalanced-learn) (1.2.0)\n",
      "Requirement already satisfied: threadpoolctl>=2.0.0 in /Users/christianmotta/anaconda3/lib/python3.11/site-packages (from imbalanced-learn) (2.2.0)\n"
     ]
    }
   ],
   "source": [
    "!pip install --user mglearn\n",
    "!pip install -U openml\n",
    "!pip install imbalanced-learn"
   ]
  },
  {
   "cell_type": "code",
   "execution_count": 3,
   "id": "ea373628-31da-4a8c-a624-7cf09fc22f3d",
   "metadata": {
    "collapsed": true,
    "jupyter": {
     "outputs_hidden": true
    },
    "tags": []
   },
   "outputs": [
    {
     "ename": "ImportError",
     "evalue": "cannot import name 'ProgressType' from 'minio.helpers' (/Users/christianmotta/anaconda3/lib/python3.11/site-packages/minio/helpers.py)",
     "output_type": "error",
     "traceback": [
      "\u001b[0;31m---------------------------------------------------------------------------\u001b[0m",
      "\u001b[0;31mImportError\u001b[0m                               Traceback (most recent call last)",
      "Cell \u001b[0;32mIn[3], line 15\u001b[0m\n\u001b[1;32m     13\u001b[0m \u001b[38;5;28;01mimport\u001b[39;00m \u001b[38;5;21;01mwarnings\u001b[39;00m \n\u001b[1;32m     14\u001b[0m warnings\u001b[38;5;241m.\u001b[39mfilterwarnings(\u001b[38;5;124m'\u001b[39m\u001b[38;5;124mignore\u001b[39m\u001b[38;5;124m'\u001b[39m)\n\u001b[0;32m---> 15\u001b[0m \u001b[38;5;28;01mimport\u001b[39;00m \u001b[38;5;21;01mopenml\u001b[39;00m\n\u001b[1;32m     16\u001b[0m \u001b[38;5;28;01mfrom\u001b[39;00m \u001b[38;5;21;01mimblearn\u001b[39;00m\u001b[38;5;21;01m.\u001b[39;00m\u001b[38;5;21;01mover_sampling\u001b[39;00m \u001b[38;5;28;01mimport\u001b[39;00m SMOTE\n\u001b[1;32m     17\u001b[0m \u001b[38;5;28;01mfrom\u001b[39;00m \u001b[38;5;21;01msklearn\u001b[39;00m\u001b[38;5;21;01m.\u001b[39;00m\u001b[38;5;21;01mmetrics\u001b[39;00m \u001b[38;5;28;01mimport\u001b[39;00m confusion_matrix\n",
      "File \u001b[0;32m~/anaconda3/lib/python3.11/site-packages/openml/__init__.py:21\u001b[0m\n\u001b[1;32m     18\u001b[0m \u001b[38;5;66;03m# License: BSD 3-Clause\u001b[39;00m\n\u001b[1;32m     19\u001b[0m \u001b[38;5;28;01mfrom\u001b[39;00m \u001b[38;5;21;01m__future__\u001b[39;00m \u001b[38;5;28;01mimport\u001b[39;00m annotations\n\u001b[0;32m---> 21\u001b[0m \u001b[38;5;28;01mfrom\u001b[39;00m \u001b[38;5;21;01m.\u001b[39;00m \u001b[38;5;28;01mimport\u001b[39;00m (\n\u001b[1;32m     22\u001b[0m     _api_calls,\n\u001b[1;32m     23\u001b[0m     config,\n\u001b[1;32m     24\u001b[0m     datasets,\n\u001b[1;32m     25\u001b[0m     evaluations,\n\u001b[1;32m     26\u001b[0m     exceptions,\n\u001b[1;32m     27\u001b[0m     extensions,\n\u001b[1;32m     28\u001b[0m     flows,\n\u001b[1;32m     29\u001b[0m     runs,\n\u001b[1;32m     30\u001b[0m     setups,\n\u001b[1;32m     31\u001b[0m     study,\n\u001b[1;32m     32\u001b[0m     tasks,\n\u001b[1;32m     33\u001b[0m     utils,\n\u001b[1;32m     34\u001b[0m )\n\u001b[1;32m     35\u001b[0m \u001b[38;5;28;01mfrom\u001b[39;00m \u001b[38;5;21;01m.\u001b[39;00m\u001b[38;5;21;01m__version__\u001b[39;00m \u001b[38;5;28;01mimport\u001b[39;00m __version__\n\u001b[1;32m     36\u001b[0m \u001b[38;5;28;01mfrom\u001b[39;00m \u001b[38;5;21;01m.\u001b[39;00m\u001b[38;5;21;01mdatasets\u001b[39;00m \u001b[38;5;28;01mimport\u001b[39;00m OpenMLDataFeature, OpenMLDataset\n",
      "File \u001b[0;32m~/anaconda3/lib/python3.11/site-packages/openml/_api_calls.py:32\u001b[0m\n\u001b[1;32m     24\u001b[0m \u001b[38;5;28;01mfrom\u001b[39;00m \u001b[38;5;21;01m.\u001b[39;00m\u001b[38;5;21;01m__version__\u001b[39;00m \u001b[38;5;28;01mimport\u001b[39;00m __version__\n\u001b[1;32m     25\u001b[0m \u001b[38;5;28;01mfrom\u001b[39;00m \u001b[38;5;21;01m.\u001b[39;00m\u001b[38;5;21;01mexceptions\u001b[39;00m \u001b[38;5;28;01mimport\u001b[39;00m (\n\u001b[1;32m     26\u001b[0m     OpenMLHashException,\n\u001b[1;32m     27\u001b[0m     OpenMLNotAuthorizedError,\n\u001b[0;32m   (...)\u001b[0m\n\u001b[1;32m     30\u001b[0m     OpenMLServerNoResult,\n\u001b[1;32m     31\u001b[0m )\n\u001b[0;32m---> 32\u001b[0m \u001b[38;5;28;01mfrom\u001b[39;00m \u001b[38;5;21;01m.\u001b[39;00m\u001b[38;5;21;01mutils\u001b[39;00m \u001b[38;5;28;01mimport\u001b[39;00m ProgressBar\n\u001b[1;32m     34\u001b[0m _HEADERS \u001b[38;5;241m=\u001b[39m {\u001b[38;5;124m\"\u001b[39m\u001b[38;5;124muser-agent\u001b[39m\u001b[38;5;124m\"\u001b[39m: \u001b[38;5;124mf\u001b[39m\u001b[38;5;124m\"\u001b[39m\u001b[38;5;124mopenml-python/\u001b[39m\u001b[38;5;132;01m{\u001b[39;00m__version__\u001b[38;5;132;01m}\u001b[39;00m\u001b[38;5;124m\"\u001b[39m}\n\u001b[1;32m     36\u001b[0m DATA_TYPE \u001b[38;5;241m=\u001b[39m Dict[\u001b[38;5;28mstr\u001b[39m, Union[\u001b[38;5;28mstr\u001b[39m, \u001b[38;5;28mint\u001b[39m]]\n",
      "File \u001b[0;32m~/anaconda3/lib/python3.11/site-packages/openml/utils.py:15\u001b[0m\n\u001b[1;32m     13\u001b[0m \u001b[38;5;28;01mimport\u001b[39;00m \u001b[38;5;21;01mpandas\u001b[39;00m \u001b[38;5;28;01mas\u001b[39;00m \u001b[38;5;21;01mpd\u001b[39;00m\n\u001b[1;32m     14\u001b[0m \u001b[38;5;28;01mimport\u001b[39;00m \u001b[38;5;21;01mxmltodict\u001b[39;00m\n\u001b[0;32m---> 15\u001b[0m \u001b[38;5;28;01mfrom\u001b[39;00m \u001b[38;5;21;01mminio\u001b[39;00m\u001b[38;5;21;01m.\u001b[39;00m\u001b[38;5;21;01mhelpers\u001b[39;00m \u001b[38;5;28;01mimport\u001b[39;00m ProgressType\n\u001b[1;32m     16\u001b[0m \u001b[38;5;28;01mfrom\u001b[39;00m \u001b[38;5;21;01mtqdm\u001b[39;00m \u001b[38;5;28;01mimport\u001b[39;00m tqdm\n\u001b[1;32m     18\u001b[0m \u001b[38;5;28;01mimport\u001b[39;00m \u001b[38;5;21;01mopenml\u001b[39;00m\n",
      "\u001b[0;31mImportError\u001b[0m: cannot import name 'ProgressType' from 'minio.helpers' (/Users/christianmotta/anaconda3/lib/python3.11/site-packages/minio/helpers.py)"
     ]
    }
   ],
   "source": [
    "# Import necessary packages, modules, and functions\n",
    "import numpy as np\n",
    "import os\n",
    "from sklearn.datasets import make_blobs\n",
    "import matplotlib.pyplot as plt\n",
    "from sklearn.model_selection import train_test_split\n",
    "import mglearn\n",
    "from sklearn.tree import DecisionTreeClassifier\n",
    "import pandas as pd \n",
    "from sklearn.linear_model import LogisticRegression\n",
    "import seaborn as sns \n",
    "from sklearn.model_selection import GridSearchCV\n",
    "import warnings \n",
    "warnings.filterwarnings('ignore')\n",
    "import openml\n",
    "from imblearn.over_sampling import SMOTE\n",
    "from sklearn.metrics import confusion_matrix\n",
    "from sklearn.metrics import classification_report\n",
    "from sklearn.preprocessing import StandardScaler\n",
    "from imblearn.pipeline import Pipeline as imbpipeline\n",
    "from sklearn.pipeline import Pipeline"
   ]
  },
  {
   "cell_type": "code",
   "execution_count": 16,
   "id": "e802e9fa-b586-4d29-bd55-92c3de0e3b36",
   "metadata": {
    "tags": []
   },
   "outputs": [
    {
     "ename": "FileNotFoundError",
     "evalue": "[Errno 2] No such file or directory: 'data.npz'",
     "output_type": "error",
     "traceback": [
      "\u001b[0;31m---------------------------------------------------------------------------\u001b[0m",
      "\u001b[0;31mFileNotFoundError\u001b[0m                         Traceback (most recent call last)",
      "Cell \u001b[0;32mIn[16], line 4\u001b[0m\n\u001b[1;32m      1\u001b[0m \u001b[38;5;66;03m## Loading data\u001b[39;00m\n\u001b[1;32m      2\u001b[0m \u001b[38;5;66;03m#5645 sample: 12 features\u001b[39;00m\n\u001b[0;32m----> 4\u001b[0m diamonds \u001b[38;5;241m=\u001b[39m np\u001b[38;5;241m.\u001b[39mload(\u001b[38;5;124m'\u001b[39m\u001b[38;5;124mdata.npz\u001b[39m\u001b[38;5;124m'\u001b[39m)\n\u001b[1;32m      5\u001b[0m X \u001b[38;5;241m=\u001b[39m diamonds[\u001b[38;5;124m'\u001b[39m\u001b[38;5;124mfeatures\u001b[39m\u001b[38;5;124m'\u001b[39m]\n\u001b[1;32m      6\u001b[0m y \u001b[38;5;241m=\u001b[39m diamonds[\u001b[38;5;124m'\u001b[39m\u001b[38;5;124mlabels\u001b[39m\u001b[38;5;124m'\u001b[39m]\n",
      "File \u001b[0;32m~/anaconda3/lib/python3.11/site-packages/numpy/lib/npyio.py:405\u001b[0m, in \u001b[0;36mload\u001b[0;34m(file, mmap_mode, allow_pickle, fix_imports, encoding, max_header_size)\u001b[0m\n\u001b[1;32m    403\u001b[0m     own_fid \u001b[38;5;241m=\u001b[39m \u001b[38;5;28;01mFalse\u001b[39;00m\n\u001b[1;32m    404\u001b[0m \u001b[38;5;28;01melse\u001b[39;00m:\n\u001b[0;32m--> 405\u001b[0m     fid \u001b[38;5;241m=\u001b[39m stack\u001b[38;5;241m.\u001b[39menter_context(\u001b[38;5;28mopen\u001b[39m(os_fspath(file), \u001b[38;5;124m\"\u001b[39m\u001b[38;5;124mrb\u001b[39m\u001b[38;5;124m\"\u001b[39m))\n\u001b[1;32m    406\u001b[0m     own_fid \u001b[38;5;241m=\u001b[39m \u001b[38;5;28;01mTrue\u001b[39;00m\n\u001b[1;32m    408\u001b[0m \u001b[38;5;66;03m# Code to distinguish from NumPy binary files and pickles.\u001b[39;00m\n",
      "\u001b[0;31mFileNotFoundError\u001b[0m: [Errno 2] No such file or directory: 'data.npz'"
     ]
    }
   ],
   "source": [
    "## Loading data\n",
    "#5645 sample: 12 features\n",
    "\n",
    "diamonds = np.load('data.npz')\n",
    "X = diamonds['features']\n",
    "y = diamonds['labels']\n",
    "\n",
    "#Change np to DataFrame\n",
    "df= pd.DataFrame(X)"
   ]
  },
  {
   "cell_type": "code",
   "execution_count": 4,
   "id": "5546c413-8e48-4721-a515-432d20766744",
   "metadata": {
    "tags": []
   },
   "outputs": [
    {
     "name": "stdout",
     "output_type": "stream",
     "text": [
      "Number of missing values for every feature: \n",
      "0     288\n",
      "1     301\n",
      "2     276\n",
      "3     274\n",
      "4     288\n",
      "5     285\n",
      "6     266\n",
      "7     286\n",
      "8     287\n",
      "9     272\n",
      "10    287\n",
      "11    277\n",
      "dtype: int64\n",
      "Total of missing value in dataset: 3387\n",
      "New number of missing values for every feature: \n",
      "0     0\n",
      "1     0\n",
      "2     0\n",
      "3     0\n",
      "4     0\n",
      "5     0\n",
      "6     0\n",
      "7     0\n",
      "8     0\n",
      "9     0\n",
      "10    0\n",
      "11    0\n",
      "dtype: int64\n",
      "new total of missing value in dataset: 0\n",
      "Number of samples and features: (5645, 12)\n",
      "Samples per class: (array([0, 1, 2, 3], dtype=int32), array([1272,  402, 1447, 2524]))\n"
     ]
    }
   ],
   "source": [
    "#Preprocessing \n",
    "\n",
    "#Link used for the code for median: https://towardsdatascience.com/data-cleaning-with-python-and-pandas-detecting-missing-values-3e9c6ebcf78b\n",
    "\n",
    "#Check for missing values\n",
    "\n",
    "print(\"Number of missing values for every feature: \\n{}\".format(df.isnull().sum()))\n",
    "\n",
    "print(\"Total of missing value in dataset: {}\".format(df.isnull().sum().sum()))\n",
    "\n",
    "#Replace missing values with median in column\n",
    "for i in range(12):\n",
    "    median= df[i].median()\n",
    "    df[i].fillna(median, inplace= True)\n",
    "    \n",
    "print(\"New number of missing values for every feature: \\n{}\".format(df.isnull().sum()))\n",
    "\n",
    "print(\"new total of missing value in dataset: {}\".format(df.isnull().sum().sum()))\n",
    "    \n",
    "#Check for imbalanced data:\n",
    "print(\"Number of samples and features:\", X.shape)\n",
    "print(\"Samples per class:\", np.unique(y, return_counts=True))"
   ]
  },
  {
   "cell_type": "code",
   "execution_count": 5,
   "id": "78ec164b-de8c-4a7a-9b8d-ea2272c72c76",
   "metadata": {
    "tags": []
   },
   "outputs": [],
   "source": [
    "#Splitting data\n",
    "X_train, X_test, y_train, y_test = train_test_split(X, y, test_size=0.2, random_state=0)\n",
    "\n",
    "X_train, X_val, y_train, y_val  = train_test_split(X_train, y_train, test_size=0.25, random_state=0)"
   ]
  },
  {
   "cell_type": "code",
   "execution_count": 6,
   "id": "c4c76c2a-2c53-4c1b-904a-247ea68ff2ba",
   "metadata": {
    "tags": []
   },
   "outputs": [
    {
     "name": "stdout",
     "output_type": "stream",
     "text": [
      "Accuracy on training set: 0.999\n",
      "22\n"
     ]
    }
   ],
   "source": [
    "#Decision Tree model\n",
    "dt= DecisionTreeClassifier(random_state=0)\n",
    "dt.fit(X_train, y_train)\n",
    "print(\"Accuracy on training set: {:.3f}\".format(dt.score(X_train, y_train)))\n",
    "\n",
    "#display the tree depth \n",
    "print(dt.get_depth())"
   ]
  },
  {
   "cell_type": "code",
   "execution_count": 7,
   "id": "bc80389e-a4cb-4285-b863-6ef4be9bc50f",
   "metadata": {
    "tags": []
   },
   "outputs": [
    {
     "name": "stdout",
     "output_type": "stream",
     "text": [
      "This are the best parameters= {'classifier__max_depth': 8, 'classifier__min_samples_leaf': 6, 'classifier__min_samples_split': 2}\n",
      "Cross-validation score= 0.6920729259395019\n"
     ]
    }
   ],
   "source": [
    "#Hyperparameter tuning decision tree\n",
    "\n",
    "#For tuning the hyperparameter and cross validation I used this link:https://plainenglish.io/blog/hyperparameter-tuning-of-decision-tree-classifier-using-gridsearchcv-2a6ebcaffeda\n",
    "#For SMOTE to implement it with pipeline and pipeline: https://towardsdatascience.com/the-right-way-of-using-smote-with-cross-validation-92a8d09d00c7\n",
    "\n",
    "#Pipeline for processing data decision tree\n",
    "sm = SMOTE()\n",
    "pipeline_dt= imbpipeline([\n",
    "    ('smote', sm),\n",
    "    ('classifier', DecisionTreeClassifier(random_state=0))])                                       \n",
    "\n",
    "#values\n",
    "param_dict_dt = {\n",
    "    \"classifier__max_depth\":range(2,13,3),\n",
    "    \"classifier__min_samples_split\": range(2,12,2),\n",
    "    \"classifier__min_samples_leaf\": range(2,7,2)\n",
    "}\n",
    "\n",
    "#Finding best hyperparameter/ cross validation\n",
    "    \n",
    "grid_dt= GridSearchCV(estimator=pipeline_dt, param_grid=param_dict_dt, cv=10)                  \n",
    "grid_dt.fit(X_train, y_train)\n",
    "                   \n",
    "#Best parameters/ Evaluation \n",
    "print(\"This are the best parameters=\",grid_dt.best_params_)\n",
    "print(\"Cross-validation score=\",grid_dt.best_score_)"
   ]
  },
  {
   "cell_type": "code",
   "execution_count": 8,
   "id": "07fa8166-2b7d-4ddf-8b8c-76e1deb4d4a9",
   "metadata": {
    "tags": []
   },
   "outputs": [
    {
     "name": "stdout",
     "output_type": "stream",
     "text": [
      "This are the best parameters= {'classifier__C': 0.1, 'classifier__solver': 'lbfgs'}\n",
      "Cross-validation score= 0.7068361522752264\n"
     ]
    }
   ],
   "source": [
    "#Hyperparameter tuning Logistic Regression\n",
    "\n",
    "#For SMOTE/ standardscaler to implement it with pipeline and cross validation: https://towardsdatascience.com/the-right-way-of-using-smote-with-cross-validation-92a8d09d00c7\n",
    "\n",
    "pipeline_lr= imbpipeline([\n",
    "    ('scaler', StandardScaler()),\n",
    "    ('smote', sm),\n",
    "    ('classifier', LogisticRegression(random_state=0))])          \n",
    "\n",
    "#values\n",
    "param_dict_lr = {\n",
    "    \"classifier__C\":[0.01, 0.10, 1,10,100],\n",
    "    \"classifier__solver\":[\"newton-cg\", \"lbfgs\", \"sag\", \"saga\"]\n",
    "}\n",
    "\n",
    "#Finding best hyperparameter/ cross validation\n",
    "    \n",
    "grid_lr= GridSearchCV(estimator=pipeline_lr, param_grid=param_dict_lr, cv=10)                  \n",
    "grid_lr.fit(X_train, y_train)\n",
    "                   \n",
    "#Best parameters/ Evaluation \n",
    "print(\"This are the best parameters=\",grid_lr.best_params_)\n",
    "print(\"Cross-validation score=\",grid_lr.best_score_)"
   ]
  },
  {
   "cell_type": "code",
   "execution_count": 9,
   "id": "f875ba82-9253-41eb-bc94-b10437b45f37",
   "metadata": {
    "tags": []
   },
   "outputs": [
    {
     "name": "stdout",
     "output_type": "stream",
     "text": [
      "The average train time of the decision tree: 0.07652028481165568\n",
      "The average train time of the logistic regression tree: 0.13210734963417053\n"
     ]
    }
   ],
   "source": [
    "# Model comparison\n",
    "import pandas\n",
    "\n",
    "#Train time Decision Tree\n",
    "traintime_dt= pandas.DataFrame(grid_dt.cv_results_)\n",
    "\n",
    "print( \"The average train time of the decision tree:\",sum(traintime_dt['mean_fit_time'])/ len(traintime_dt['mean_fit_time']))\n",
    "\n",
    "#Train time logistic regression\n",
    "traintime_lr= pandas.DataFrame(grid_lr.cv_results_)\n",
    "\n",
    "print( \"The average train time of the logistic regression tree:\",sum(traintime_lr['mean_fit_time'])/ len(traintime_lr['mean_fit_time']))"
   ]
  },
  {
   "cell_type": "code",
   "execution_count": 10,
   "id": "4885c02f-b07c-488b-bfe0-a4fb8e908d41",
   "metadata": {
    "tags": []
   },
   "outputs": [
    {
     "name": "stdout",
     "output_type": "stream",
     "text": [
      "Model performance of the decision tree: 0.6920729259395019\n",
      "Model performance of the logistic regression : 0.7068361522752264\n",
      "The logistic regression has the best performance.\n"
     ]
    }
   ],
   "source": [
    "#Model evaluation comparison\n",
    "\n",
    "#Model performances\n",
    "\n",
    "#Decision Tree\n",
    "print(\"Model performance of the decision tree: {}\".format(grid_dt.best_score_))\n",
    "\n",
    "#Logistic Regression\n",
    "print(\"Model performance of the logistic regression : {}\".format(grid_lr.best_score_))\n",
    "\n",
    "# Best Model\n",
    "if grid_lr.best_score_> grid_dt.best_score_:\n",
    "    print(\"The logistic regression has the best performance.\")\n",
    "else: \n",
    "    (\"The decision tree has the best performance.\")"
   ]
  },
  {
   "cell_type": "code",
   "execution_count": 11,
   "id": "89289247-0071-4b24-b813-31b2ccab777b",
   "metadata": {
    "tags": []
   },
   "outputs": [
    {
     "name": "stdout",
     "output_type": "stream",
     "text": [
      "Final test set score for logistic regression: 0.68\n"
     ]
    }
   ],
   "source": [
    "#Final test\n",
    "print(\"Final test set score for logistic regression: {:.2f}\".format(grid_lr.score(X_test, y_test)))"
   ]
  },
  {
   "cell_type": "code",
   "execution_count": 12,
   "id": "1ae2b39c-4e04-4a82-88a2-48a1ed075a65",
   "metadata": {
    "tags": []
   },
   "outputs": [
    {
     "name": "stdout",
     "output_type": "stream",
     "text": [
      "Confusion matrix:\n",
      "[[205   3  16  46]\n",
      " [  2  61   0   0]\n",
      " [ 34   0 209  49]\n",
      " [101  30  80 293]]\n",
      "\n",
      "              precision    recall  f1-score   support\n",
      "\n",
      "   Lab-grown       0.60      0.76      0.67       270\n",
      "    Zirconia       0.65      0.97      0.78        63\n",
      "  Moissanite       0.69      0.72      0.70       292\n",
      "     Natural       0.76      0.58      0.66       504\n",
      "\n",
      "    accuracy                           0.68      1129\n",
      "   macro avg       0.67      0.76      0.70      1129\n",
      "weighted avg       0.69      0.68      0.68      1129\n",
      "\n"
     ]
    }
   ],
   "source": [
    "#Final results\n",
    "pred_lr = grid_lr.predict(X_test)\n",
    "\n",
    "confusion = confusion_matrix(y_test, pred_lr)\n",
    "print(\"Confusion matrix:\\n{}\".format(confusion))\n",
    "print()\n",
    "\n",
    "print(classification_report(y_test, pred_lr, target_names=[\"Lab-grown\", \"Zirconia\",\"Moissanite\",\"Natural\" ]))"
   ]
  }
 ],
 "metadata": {
  "kernelspec": {
   "display_name": "Python [conda env:base] *",
   "language": "python",
   "name": "conda-base-py"
  },
  "language_info": {
   "codemirror_mode": {
    "name": "ipython",
    "version": 3
   },
   "file_extension": ".py",
   "mimetype": "text/x-python",
   "name": "python",
   "nbconvert_exporter": "python",
   "pygments_lexer": "ipython3",
   "version": "3.11.4"
  }
 },
 "nbformat": 4,
 "nbformat_minor": 5
}
