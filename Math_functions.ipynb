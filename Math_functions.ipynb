{
  "nbformat": 4,
  "nbformat_minor": 0,
  "metadata": {
    "colab": {
      "provenance": [],
      "authorship_tag": "ABX9TyMUcVwVdIi+qi9ZKxSRsid1",
      "include_colab_link": true
    },
    "kernelspec": {
      "name": "python3",
      "display_name": "Python 3"
    },
    "language_info": {
      "name": "python"
    }
  },
  "cells": [
    {
      "cell_type": "markdown",
      "metadata": {
        "id": "view-in-github",
        "colab_type": "text"
      },
      "source": [
        "<a href=\"https://colab.research.google.com/github/chrstnmotta-droid/Projects/blob/main/Math_functions.ipynb\" target=\"_parent\"><img src=\"https://colab.research.google.com/assets/colab-badge.svg\" alt=\"Open In Colab\"/></a>"
      ]
    },
    {
      "cell_type": "markdown",
      "source": [
        "Math functions:"
      ],
      "metadata": {
        "id": "qf9_4ZVg4MXI"
      }
    },
    {
      "cell_type": "code",
      "execution_count": null,
      "metadata": {
        "id": "vgq0-r934LN-"
      },
      "outputs": [],
      "source": [
        "#To find non values\n",
        "math.isnan()\n",
        "\n",
        "#To find infinity values\n",
        "math.isinf()\n",
        "\n",
        "#To find finite values\n",
        "math.isfinite()"
      ]
    }
  ]
}